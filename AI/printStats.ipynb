{
 "cells": [
  {
   "cell_type": "code",
   "execution_count": 1,
   "metadata": {},
   "outputs": [
    {
     "name": "stdout",
     "output_type": "stream",
     "text": [
      "Done\n"
     ]
    }
   ],
   "source": [
    "from DatastoreUtils import *\n",
    "\n",
    "\n",
    "surveyTemplate, surveyQuestions, surveyResponses = DataStore.LoadData(\n",
    "    clipsPath=\"datastore/clips.csv\",\n",
    "    questionsPath=\"datastore/questions.csv\",\n",
    "    surveyTemplatePath=\"datastore/questionnaire.csv\",\n",
    "    surveyResponsesPath=\"datastore/questionnaire_responses.csv\"\n",
    ")\n",
    "teamIds = ['All the teams'] + [str(x) for x in set(pd.read_csv(\"datastore/questionnaire_responses.csv\")['teamId'])]\n",
    "print('Done')\n"
   ]
  },
  {
   "cell_type": "code",
   "execution_count": 2,
   "metadata": {},
   "outputs": [
    {
     "data": {
      "application/vnd.jupyter.widget-view+json": {
       "model_id": "bd3aace0711e4ec5a7ada051559fe9bc",
       "version_major": 2,
       "version_minor": 0
      },
      "text/plain": [
       "interactive(children=(Dropdown(description='teamId', options=('All the teams', '13', '14', '15', '16', '17', '…"
      ]
     },
     "metadata": {},
     "output_type": "display_data"
    }
   ],
   "source": [
    "import VisualizationUtils as Visualization\n",
    "\n",
    "from ipywidgets import interact\n",
    "\n",
    "\n",
    "\n",
    "\"\"\"\n",
    "teamId - the ID of the team you want your results to be filtered for or 'All the teams' \n",
    "    to get the results for all the teams\n",
    "\"\"\"\n",
    "\n",
    "@interact\n",
    "def printStats(\n",
    "    teamId: teamIds,\n",
    "):\n",
    "    options = Visualization.StatsOptions(\n",
    "        teamId=int(teamId.strip()) if teamId.strip() != \"All the teams\" else None,\n",
    "    )\n",
    "    Visualization.printStats(options, surveyResponses)"
   ]
  },
  {
   "cell_type": "code",
   "execution_count": null,
   "metadata": {},
   "outputs": [],
   "source": []
  }
 ],
 "metadata": {
  "kernelspec": {
   "display_name": "Python 3",
   "language": "python",
   "name": "python3"
  },
  "language_info": {
   "codemirror_mode": {
    "name": "ipython",
    "version": 3
   },
   "file_extension": ".py",
   "mimetype": "text/x-python",
   "name": "python",
   "nbconvert_exporter": "python",
   "pygments_lexer": "ipython3",
   "version": "3.7.4"
  }
 },
 "nbformat": 4,
 "nbformat_minor": 4
}
