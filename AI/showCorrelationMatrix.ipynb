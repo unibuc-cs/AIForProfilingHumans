{
 "cells": [
  {
   "cell_type": "code",
   "execution_count": 1,
   "metadata": {},
   "outputs": [
    {
     "name": "stdout",
     "output_type": "stream",
     "text": [
      "Done\n"
     ]
    }
   ],
   "source": [
    "from DatastoreUtils import *\n",
    "from DataDefinitions import STATS_KEYS\n",
    "\n",
    "\n",
    "surveyTemplate, surveyQuestions, surveyResponses = DataStore.LoadData(\n",
    "    clipsPath=\"datastore/clips.csv\",\n",
    "    questionsPath=\"datastore/questions.csv\",\n",
    "    surveyTemplatePath=\"datastore/questionnaire.csv\",\n",
    "    surveyResponsesPath=\"datastore/questionnaire_responses.csv\"\n",
    ")\n",
    "questionsCategories = list(set(pd.read_csv(\"datastore/questions.csv\")['category']))\n",
    "questionsCategoriesOptions = [f'{x}_{y.name}' for x in questionsCategories for y in STATS_KEYS]\n",
    "attributes = list(set(pd.read_csv(\"datastore/attributes.csv\")['Name']))\n",
    "teamIds = ['All the teams'] + [str(x) for x in set(pd.read_csv(\"datastore/questionnaire_responses.csv\")['teamId'])]\n",
    "print('Done')\n"
   ]
  },
  {
   "cell_type": "code",
   "execution_count": 2,
   "metadata": {},
   "outputs": [
    {
     "name": "stdout",
     "output_type": "stream",
     "text": [
      "Select the items you're interested in correlating\n"
     ]
    },
    {
     "data": {
      "application/vnd.jupyter.widget-view+json": {
       "model_id": "2400c3cc0d054fa6acb98a2a71ae4f81",
       "version_major": 2,
       "version_minor": 0
      },
      "text/plain": [
       "VBox(children=(Checkbox(value=False, description='Intervention_MIN'), Checkbox(value=False, description='Inter…"
      ]
     },
     "metadata": {},
     "output_type": "display_data"
    },
    {
     "data": {
      "application/vnd.jupyter.widget-view+json": {
       "model_id": "d76cd4559fe74663b344b64edc90343a",
       "version_major": 2,
       "version_minor": 0
      },
      "text/plain": [
       "Output()"
      ]
     },
     "metadata": {},
     "output_type": "display_data"
    }
   ],
   "source": [
    "import ipywidgets as widgets\n",
    "\n",
    "\n",
    "names = []\n",
    "checkboxObjects = []\n",
    "options = questionsCategoriesOptions + attributes\n",
    "# options.extend(attributes)\n",
    "for option in options:\n",
    "    checkboxObjects.append(widgets.Checkbox(value=False, description=option))\n",
    "    names.append(option)\n",
    "\n",
    "\n",
    "\n",
    "arg_dict = {names[i]: checkbox for i, checkbox in enumerate(checkboxObjects)}\n",
    "\n",
    "ui = widgets.VBox(children=checkboxObjects)\n",
    "\n",
    "itemsToShow = []\n",
    "def select_data(**kwargs):\n",
    "    itemsToShow.clear()\n",
    "\n",
    "    for key in kwargs:\n",
    "        if kwargs[key] is True:\n",
    "            itemsToShow.append(key)\n",
    "\n",
    "\n",
    "print(\"Select the items you're interested in correlating\")\n",
    "\n",
    "out = widgets.interactive_output(select_data, arg_dict)\n",
    "display(ui, out)\n"
   ]
  },
  {
   "cell_type": "code",
   "execution_count": 4,
   "metadata": {},
   "outputs": [
    {
     "data": {
      "application/vnd.jupyter.widget-view+json": {
       "model_id": "396d00ae02344f9fbfcd8c8be0d24714",
       "version_major": 2,
       "version_minor": 0
      },
      "text/plain": [
       "interactive(children=(Dropdown(description='teamId', options=('All the teams', '13', '14', '15', '16', '17', '…"
      ]
     },
     "metadata": {},
     "output_type": "display_data"
    }
   ],
   "source": [
    "import VisualizationUtils as Visualization\n",
    "\n",
    "from ipywidgets import interact\n",
    "\n",
    "\n",
    "\"\"\"\n",
    "itemsToShow - the question category you want the results to filtered for or all the categories if you leave an empty string\n",
    "teamId - the ID of the team you want your results to be filtered for or empty string if you want the results for all the teams\n",
    "\"\"\"\n",
    "\n",
    "@interact\n",
    "def showCorrelationMatrix(\n",
    "    teamId: teamIds,\n",
    "    savePath=\"\",\n",
    "):\n",
    "    options = Visualization.VisualizationCorrelationOptions(\n",
    "        itemsToShow=itemsToShow,\n",
    "        teamId=int(teamId.strip()) if teamId.strip() != \"All the teams\" else None,\n",
    "        saveFigurePath=savePath.strip() if savePath.strip() != \"\" else None \n",
    "    )\n",
    "    Visualization.showCorrelationMatrix(options, surveyResponses)\n",
    "    "
   ]
  },
  {
   "cell_type": "code",
   "execution_count": null,
   "metadata": {},
   "outputs": [],
   "source": []
  }
 ],
 "metadata": {
  "kernelspec": {
   "display_name": "Python 3",
   "language": "python",
   "name": "python3"
  },
  "language_info": {
   "codemirror_mode": {
    "name": "ipython",
    "version": 3
   },
   "file_extension": ".py",
   "mimetype": "text/x-python",
   "name": "python",
   "nbconvert_exporter": "python",
   "pygments_lexer": "ipython3",
   "version": "3.7.4"
  }
 },
 "nbformat": 4,
 "nbformat_minor": 4
}
