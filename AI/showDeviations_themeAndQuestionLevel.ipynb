{
 "cells": [
  {
   "cell_type": "code",
   "execution_count": 1,
   "metadata": {
    "slideshow": {
     "slide_type": "-"
    }
   },
   "outputs": [
    {
     "name": "stdout",
     "output_type": "stream",
     "text": [
      "Done\n"
     ]
    }
   ],
   "source": [
    "from DatastoreUtils import *\n",
    "\n",
    "\n",
    "surveyTemplate, surveyQuestions, surveyResponses = DataStore.LoadData(\n",
    "    clipsPath=\"datastore/clips.csv\",\n",
    "    questionsPath=\"datastore/questions.csv\",\n",
    "    surveyTemplatePath=\"datastore/questionnaire.csv\",\n",
    "    surveyResponsesPath=\"datastore/questionnaire_responses.csv\"\n",
    ")\n",
    "questionsCategoriesOptions = ['All the questions categories'] + list(set(pd.read_csv(\"datastore/questions.csv\")['category']))\n",
    "teamIds = ['All the teams'] + [str(x) for x in set(pd.read_csv(\"datastore/questionnaire_responses.csv\")['teamId'])]\n",
    "print('Done')\n"
   ]
  },
  {
   "cell_type": "code",
   "execution_count": 2,
   "metadata": {
    "slideshow": {
     "slide_type": "slide"
    }
   },
   "outputs": [
    {
     "data": {
      "application/vnd.jupyter.widget-view+json": {
       "model_id": "9e077170eacc4efc82bf8df4a982975a",
       "version_major": 2,
       "version_minor": 0
      },
      "text/plain": [
       "interactive(children=(Text(value='', description='title'), Dropdown(description='teamId', options=('All the te…"
      ]
     },
     "metadata": {},
     "output_type": "display_data"
    }
   ],
   "source": [
    "import VisualizationUtils as Visualization\n",
    "\n",
    "from ipywidgets import interact\n",
    "\n",
    "\n",
    "\"\"\"\n",
    "title - use it to add a description on top of each chart, before 'theme'\n",
    "teamId - the ID of the team you want your results to be filtered for or 'All the teams' \n",
    "    to get the results for all the teams\n",
    "category - the name of the category you want the results to be filtered by or 'All the questions categories' \n",
    "    to get the results for all the categories \n",
    "showBiasedDeviations - if ambiguity and severity should bias the deviation results or not\n",
    "showViolins - if true, violins will be shown instead of boxplots. They show the distribution around a value\n",
    "showPoints - if true, individual repsonses will be marked on the graph\n",
    "\"\"\"\n",
    "\n",
    "@interact\n",
    "def showDeviations_themeAndQuestionLevel(\n",
    "    title : \"\", \n",
    "    teamId : teamIds,\n",
    "    category = questionsCategoriesOptions,\n",
    "    showBiasedDeviations = False,\n",
    "    showViolins = False,\n",
    "    showPoints = False,\n",
    "    savePath = \"\",\n",
    "):\n",
    "    options = Visualization.ThemeAndQuestionLevelVisualizationDeviationsOptions(\n",
    "        name=title, \n",
    "        teamId=int(teamId.strip()) if teamId.strip() != \"All the teams\" else None,\n",
    "        categoryName=category.strip() if category.strip() != 'All the questions categories' else None,\n",
    "        showBiasedDeviations = showBiasedDeviations,\n",
    "        showViolins = showViolins,\n",
    "        showPoints = showPoints,\n",
    "        saveFigurePath = None if savePath.strip() == \"\" else savePath.strip()\n",
    "    )\n",
    "    Visualization.showDeviations_themeAndQuestionLevel(options, surveyTemplate, surveyResponses)\n",
    "    \n",
    "    "
   ]
  },
  {
   "cell_type": "code",
   "execution_count": null,
   "metadata": {
    "slideshow": {
     "slide_type": "-"
    }
   },
   "outputs": [],
   "source": []
  }
 ],
 "metadata": {
  "celltoolbar": "Slideshow",
  "kernelspec": {
   "display_name": "Python 3",
   "language": "python",
   "name": "python3"
  },
  "language_info": {
   "codemirror_mode": {
    "name": "ipython",
    "version": 3
   },
   "file_extension": ".py",
   "mimetype": "text/x-python",
   "name": "python",
   "nbconvert_exporter": "python",
   "pygments_lexer": "ipython3",
   "version": "3.7.4"
  }
 },
 "nbformat": 4,
 "nbformat_minor": 4
}
